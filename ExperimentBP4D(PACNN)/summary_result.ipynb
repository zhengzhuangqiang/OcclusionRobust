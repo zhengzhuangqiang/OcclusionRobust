{
 "cells": [
  {
   "cell_type": "code",
   "execution_count": 1,
   "metadata": {
    "ExecuteTime": {
     "end_time": "2019-06-04T08:06:34.520230Z",
     "start_time": "2019-06-04T08:06:34.516287Z"
    }
   },
   "outputs": [],
   "source": [
    "import os, sys\n",
    "import pandas as pd\n",
    "import re\n",
    "import numpy as np"
   ]
  },
  {
   "cell_type": "code",
   "execution_count": 2,
   "metadata": {
    "ExecuteTime": {
     "end_time": "2019-06-04T08:24:50.502552Z",
     "start_time": "2019-06-04T08:24:50.431828Z"
    },
    "code_folding": [],
    "scrolled": false
   },
   "outputs": [],
   "source": [
    "def decode(x):\n",
    "    f1 = float(re.search(pattern=r'f1:([\\d].[\\d]+)', string=x).groups()[0])\n",
    "    all_f1 = x[x.find('[')+1:x.find(']')].replace('\\n','')\n",
    "    return f1, all_f1\n",
    "def split_string(df):\n",
    "    df = df.copy()\n",
    "    select_AU = [ 'AU01','AU02', 'AU04', 'AU06', 'AU07', 'AU10', \\\n",
    "                 'AU12', 'AU14', 'AU15', 'AU17','AU23', 'AU24']\n",
    "    for i, val in enumerate(select_AU):\n",
    "        df[val] = df.all_f1.map(lambda x: float(re.split(pattern='[\\ ]+', string=x.strip())[i]))\n",
    "    del df['all_f1']\n",
    "    df['f1'] = df['f1'].map(lambda x: float(x))\n",
    "    return df\n",
    "def summary_result_step1(content, num_epochs=10, num_times=3):\n",
    "    index = []\n",
    "    for i in range(num_times):\n",
    "        for epoch in range(num_epochs):\n",
    "            index.append('%02d_%02d'%(i,epoch))\n",
    "    trn_df = pd.DataFrame(index=index, columns=['time', 'epoch', 'f1', 'all_f1'])\n",
    "    val_clean_df = trn_df.copy()\n",
    "    val_occ_df = trn_df.copy()\n",
    "    test_clean_df = trn_df.copy()\n",
    "    test_occ_df = trn_df.copy()\n",
    "    for i in range(num_times):\n",
    "        start = content.find('time%02d'%i)\n",
    "        end = content.find('time%02d'%(i+1))\n",
    "        one_time = content[start:end]\n",
    "        for epoch in range(num_epochs):\n",
    "            start = one_time.find('epochs %02d' % epoch)\n",
    "            end = one_time.find('epochs %02d' % (epoch+1))\n",
    "            if end==-1:one_epoch = one_time[start:]\n",
    "            else: one_epoch = one_time[start:end]\n",
    "\n",
    "            trn = one_epoch[one_epoch.find('trn'):one_epoch.find('val_clean')]\n",
    "            f1, all_f1 = decode(trn)\n",
    "            trn_df.loc['%02d_%02d'%(i,epoch), 'time'] = i\n",
    "            trn_df.loc['%02d_%02d'%(i,epoch), 'epoch'] = epoch\n",
    "            trn_df.loc['%02d_%02d'%(i,epoch), 'f1'] = f1\n",
    "            trn_df.loc['%02d_%02d'%(i,epoch), 'all_f1'] = all_f1\n",
    "\n",
    "            val_clean = one_epoch[one_epoch.find('val_clean'):one_epoch.find('val_occ')]\n",
    "            f1, all_f1 = decode(val_clean)\n",
    "            val_clean_df.loc['%02d_%02d'%(i,epoch), 'time'] = i\n",
    "            val_clean_df.loc['%02d_%02d'%(i,epoch), 'epoch'] = epoch\n",
    "            val_clean_df.loc['%02d_%02d'%(i,epoch), 'f1'] = f1\n",
    "            val_clean_df.loc['%02d_%02d'%(i,epoch), 'all_f1'] = all_f1\n",
    "\n",
    "            val_occ = one_epoch[one_epoch.find('val_occ'):one_epoch.rfind(']')+1]\n",
    "            f1, all_f1 = decode(val_occ)\n",
    "            val_occ_df.loc['%02d_%02d'%(i,epoch), 'time'] = i\n",
    "            val_occ_df.loc['%02d_%02d'%(i,epoch), 'epoch'] = epoch\n",
    "            val_occ_df.loc['%02d_%02d'%(i,epoch), 'f1'] = f1\n",
    "            val_occ_df.loc['%02d_%02d'%(i,epoch), 'all_f1'] = all_f1\n",
    "    trn_df = split_string(trn_df)\n",
    "    val_clean_df = split_string(val_clean_df)\n",
    "    val_occ_df = split_string(val_occ_df)\n",
    "    return trn_df, val_clean_df, val_occ_df\n",
    "\n",
    "def summary_result_step2(trn_df, val_clean_df, val_occ_df, num_times=3, num_epochs=10):\n",
    "    \"\"\"\n",
    "        获得每一轮的平均结果\n",
    "    \"\"\"\n",
    "    select_AU = [ 'AU01','AU02', 'AU04', 'AU06', 'AU07', 'AU10', \\\n",
    "                 'AU12', 'AU14', 'AU15', 'AU17','AU23', 'AU24']\n",
    "    sel_val_clean = pd.DataFrame(index=list(range(num_epochs)), columns=['epoch', 'f1', *select_AU])\n",
    "    sel_val_occ = sel_val_clean.copy()\n",
    "    for epoch in range(num_epochs):\n",
    "        tmp = val_clean_df[val_clean_df.epoch==epoch].copy()\n",
    "        sel_val_clean.loc[epoch] = tmp.mean(axis=0).loc[sel_val_clean.columns]\n",
    "        tmp = val_occ_df[val_occ_df.epoch==epoch]\n",
    "        sel_val_occ.loc[epoch] = tmp.mean(axis=0).loc[sel_val_occ.columns]\n",
    "    return sel_val_clean, sel_val_occ\n",
    "def summary_result_step3(sel_val_clean, sel_val_occ):\n",
    "    summary_df = pd.DataFrame(index=['val_clean', 'val_occ'], columns=sel_val_clean.columns)\n",
    "    summary_df.loc['val_clean'] = sel_val_clean.loc['mean']\n",
    "    summary_df.loc['val_occ'] = sel_val_occ.loc['mean']\n",
    "    return summary_df"
   ]
  },
  {
   "cell_type": "markdown",
   "metadata": {},
   "source": [
    "# PACNN"
   ]
  },
  {
   "cell_type": "code",
   "execution_count": 5,
   "metadata": {
    "ExecuteTime": {
     "end_time": "2019-06-04T09:26:08.418933Z",
     "start_time": "2019-06-04T09:26:02.117246Z"
    }
   },
   "outputs": [],
   "source": [
    "log_path = './log.txt'\n",
    "with open(log_path, 'r') as f:\n",
    "    content = f.read()\n",
    "trn_df, val_clean_df, val_occ_df = summary_result_step1(content, num_epochs=10, num_times=3)\n",
    "sel_val_clean, sel_val_occ = summary_result_step2(trn_df, val_clean_df, val_occ_df, num_epochs=10, num_times=3)\n",
    "sel_val_clean.to_csv(log_path[:-4]+'_clean.csv', index=False)\n",
    "sel_val_occ.to_csv(log_path[:-4]+'_occ.csv', index=False)\n",
    "index = sel_val_clean.f1.astype(np.float32).idxmax()\n",
    "tmp = pd.DataFrame()\n",
    "tmp = tmp.append(sel_val_clean.iloc[index], ignore_index=True)\n",
    "tmp = tmp.append(sel_val_occ.iloc[index], ignore_index=True)\n",
    "tmp.rename(axis=0, mapper={0: 'clean', 1:'occ'}, inplace=True)\n",
    "tmp"
   ]
  },
  {
   "cell_type": "code",
   "execution_count": null,
   "metadata": {},
   "outputs": [],
   "source": []
  }
 ],
 "metadata": {
  "hide_input": false,
  "kernelspec": {
   "display_name": "Python 3",
   "language": "python",
   "name": "python3"
  },
  "language_info": {
   "codemirror_mode": {
    "name": "ipython",
    "version": 3
   },
   "file_extension": ".py",
   "mimetype": "text/x-python",
   "name": "python",
   "nbconvert_exporter": "python",
   "pygments_lexer": "ipython3",
   "version": "3.6.7"
  },
  "toc": {
   "base_numbering": 1,
   "nav_menu": {},
   "number_sections": true,
   "sideBar": true,
   "skip_h1_title": false,
   "title_cell": "Table of Contents",
   "title_sidebar": "Contents",
   "toc_cell": false,
   "toc_position": {},
   "toc_section_display": true,
   "toc_window_display": true
  },
  "varInspector": {
   "cols": {
    "lenName": 16,
    "lenType": 16,
    "lenVar": 40
   },
   "kernels_config": {
    "python": {
     "delete_cmd_postfix": "",
     "delete_cmd_prefix": "del ",
     "library": "var_list.py",
     "varRefreshCmd": "print(var_dic_list())"
    },
    "r": {
     "delete_cmd_postfix": ") ",
     "delete_cmd_prefix": "rm(",
     "library": "var_list.r",
     "varRefreshCmd": "cat(var_dic_list()) "
    }
   },
   "types_to_exclude": [
    "module",
    "function",
    "builtin_function_or_method",
    "instance",
    "_Feature"
   ],
   "window_display": false
  }
 },
 "nbformat": 4,
 "nbformat_minor": 2
}
